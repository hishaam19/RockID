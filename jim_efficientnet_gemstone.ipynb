{
  "nbformat": 4,
  "nbformat_minor": 0,
  "metadata": {
    "colab": {
      "provenance": [],
      "gpuType": "T4",
      "mount_file_id": "1gHpxBbk_t0rfu1mgAgb019RNcJw6tEiu",
      "authorship_tag": "ABX9TyNoEFst99RToOya/wVplixc",
      "include_colab_link": true
    },
    "kernelspec": {
      "name": "python3",
      "display_name": "Python 3"
    },
    "language_info": {
      "name": "python"
    }
  },
  "cells": [
    {
      "cell_type": "markdown",
      "metadata": {
        "id": "view-in-github",
        "colab_type": "text"
      },
      "source": [
        "<a href=\"https://colab.research.google.com/github/hishaam19/RockID/blob/TrainingModelsAlex/jim_efficientnet_gemstone.ipynb\" target=\"_parent\"><img src=\"https://colab.research.google.com/assets/colab-badge.svg\" alt=\"Open In Colab\"/></a>"
      ]
    },
    {
      "cell_type": "code",
      "source": [
        "!pip install tensorflow==2.11.0"
      ],
      "metadata": {
        "colab": {
          "base_uri": "https://localhost:8080/",
          "height": 1000
        },
        "id": "LB5dMaTgdcIX",
        "outputId": "791df6a6-a02a-4d62-fb3a-de2012c70018"
      },
      "execution_count": null,
      "outputs": [
        {
          "output_type": "stream",
          "name": "stdout",
          "text": [
            "Looking in indexes: https://pypi.org/simple, https://us-python.pkg.dev/colab-wheels/public/simple/\n",
            "Collecting tensorflow==2.11.0\n",
            "  Downloading tensorflow-2.11.0-cp310-cp310-manylinux_2_17_x86_64.manylinux2014_x86_64.whl (588.3 MB)\n",
            "\u001b[2K     \u001b[90m━━━━━━━━━━━━━━━━━━━━━━━━━━━━━━━━━━━━━━━\u001b[0m \u001b[32m588.3/588.3 MB\u001b[0m \u001b[31m2.9 MB/s\u001b[0m eta \u001b[36m0:00:00\u001b[0m\n",
            "\u001b[?25hRequirement already satisfied: absl-py>=1.0.0 in /usr/local/lib/python3.10/dist-packages (from tensorflow==2.11.0) (1.4.0)\n",
            "Requirement already satisfied: astunparse>=1.6.0 in /usr/local/lib/python3.10/dist-packages (from tensorflow==2.11.0) (1.6.3)\n",
            "Requirement already satisfied: flatbuffers>=2.0 in /usr/local/lib/python3.10/dist-packages (from tensorflow==2.11.0) (23.3.3)\n",
            "Requirement already satisfied: gast<=0.4.0,>=0.2.1 in /usr/local/lib/python3.10/dist-packages (from tensorflow==2.11.0) (0.4.0)\n",
            "Requirement already satisfied: google-pasta>=0.1.1 in /usr/local/lib/python3.10/dist-packages (from tensorflow==2.11.0) (0.2.0)\n",
            "Requirement already satisfied: grpcio<2.0,>=1.24.3 in /usr/local/lib/python3.10/dist-packages (from tensorflow==2.11.0) (1.54.0)\n",
            "Requirement already satisfied: h5py>=2.9.0 in /usr/local/lib/python3.10/dist-packages (from tensorflow==2.11.0) (3.8.0)\n",
            "Collecting keras<2.12,>=2.11.0 (from tensorflow==2.11.0)\n",
            "  Downloading keras-2.11.0-py2.py3-none-any.whl (1.7 MB)\n",
            "\u001b[2K     \u001b[90m━━━━━━━━━━━━━━━━━━━━━━━━━━━━━━━━━━━━━━━━\u001b[0m \u001b[32m1.7/1.7 MB\u001b[0m \u001b[31m91.9 MB/s\u001b[0m eta \u001b[36m0:00:00\u001b[0m\n",
            "\u001b[?25hRequirement already satisfied: libclang>=13.0.0 in /usr/local/lib/python3.10/dist-packages (from tensorflow==2.11.0) (16.0.0)\n",
            "Requirement already satisfied: numpy>=1.20 in /usr/local/lib/python3.10/dist-packages (from tensorflow==2.11.0) (1.22.4)\n",
            "Requirement already satisfied: opt-einsum>=2.3.2 in /usr/local/lib/python3.10/dist-packages (from tensorflow==2.11.0) (3.3.0)\n",
            "Requirement already satisfied: packaging in /usr/local/lib/python3.10/dist-packages (from tensorflow==2.11.0) (23.1)\n",
            "Collecting protobuf<3.20,>=3.9.2 (from tensorflow==2.11.0)\n",
            "  Downloading protobuf-3.19.6-cp310-cp310-manylinux_2_17_x86_64.manylinux2014_x86_64.whl (1.1 MB)\n",
            "\u001b[2K     \u001b[90m━━━━━━━━━━━━━━━━━━━━━━━━━━━━━━━━━━━━━━━━\u001b[0m \u001b[32m1.1/1.1 MB\u001b[0m \u001b[31m82.0 MB/s\u001b[0m eta \u001b[36m0:00:00\u001b[0m\n",
            "\u001b[?25hRequirement already satisfied: setuptools in /usr/local/lib/python3.10/dist-packages (from tensorflow==2.11.0) (67.7.2)\n",
            "Requirement already satisfied: six>=1.12.0 in /usr/local/lib/python3.10/dist-packages (from tensorflow==2.11.0) (1.16.0)\n",
            "Collecting tensorboard<2.12,>=2.11 (from tensorflow==2.11.0)\n",
            "  Downloading tensorboard-2.11.2-py3-none-any.whl (6.0 MB)\n",
            "\u001b[2K     \u001b[90m━━━━━━━━━━━━━━━━━━━━━━━━━━━━━━━━━━━━━━━━\u001b[0m \u001b[32m6.0/6.0 MB\u001b[0m \u001b[31m99.6 MB/s\u001b[0m eta \u001b[36m0:00:00\u001b[0m\n",
            "\u001b[?25hCollecting tensorflow-estimator<2.12,>=2.11.0 (from tensorflow==2.11.0)\n",
            "  Downloading tensorflow_estimator-2.11.0-py2.py3-none-any.whl (439 kB)\n",
            "\u001b[2K     \u001b[90m━━━━━━━━━━━━━━━━━━━━━━━━━━━━━━━━━━━━━━\u001b[0m \u001b[32m439.2/439.2 kB\u001b[0m \u001b[31m51.7 MB/s\u001b[0m eta \u001b[36m0:00:00\u001b[0m\n",
            "\u001b[?25hRequirement already satisfied: termcolor>=1.1.0 in /usr/local/lib/python3.10/dist-packages (from tensorflow==2.11.0) (2.3.0)\n",
            "Requirement already satisfied: typing-extensions>=3.6.6 in /usr/local/lib/python3.10/dist-packages (from tensorflow==2.11.0) (4.5.0)\n",
            "Requirement already satisfied: wrapt>=1.11.0 in /usr/local/lib/python3.10/dist-packages (from tensorflow==2.11.0) (1.14.1)\n",
            "Requirement already satisfied: tensorflow-io-gcs-filesystem>=0.23.1 in /usr/local/lib/python3.10/dist-packages (from tensorflow==2.11.0) (0.32.0)\n",
            "Requirement already satisfied: wheel<1.0,>=0.23.0 in /usr/local/lib/python3.10/dist-packages (from astunparse>=1.6.0->tensorflow==2.11.0) (0.40.0)\n",
            "Requirement already satisfied: google-auth<3,>=1.6.3 in /usr/local/lib/python3.10/dist-packages (from tensorboard<2.12,>=2.11->tensorflow==2.11.0) (2.17.3)\n",
            "Collecting google-auth-oauthlib<0.5,>=0.4.1 (from tensorboard<2.12,>=2.11->tensorflow==2.11.0)\n",
            "  Downloading google_auth_oauthlib-0.4.6-py2.py3-none-any.whl (18 kB)\n",
            "Requirement already satisfied: markdown>=2.6.8 in /usr/local/lib/python3.10/dist-packages (from tensorboard<2.12,>=2.11->tensorflow==2.11.0) (3.4.3)\n",
            "Requirement already satisfied: requests<3,>=2.21.0 in /usr/local/lib/python3.10/dist-packages (from tensorboard<2.12,>=2.11->tensorflow==2.11.0) (2.27.1)\n",
            "Collecting tensorboard-data-server<0.7.0,>=0.6.0 (from tensorboard<2.12,>=2.11->tensorflow==2.11.0)\n",
            "  Downloading tensorboard_data_server-0.6.1-py3-none-manylinux2010_x86_64.whl (4.9 MB)\n",
            "\u001b[2K     \u001b[90m━━━━━━━━━━━━━━━━━━━━━━━━━━━━━━━━━━━━━━━━\u001b[0m \u001b[32m4.9/4.9 MB\u001b[0m \u001b[31m107.1 MB/s\u001b[0m eta \u001b[36m0:00:00\u001b[0m\n",
            "\u001b[?25hRequirement already satisfied: tensorboard-plugin-wit>=1.6.0 in /usr/local/lib/python3.10/dist-packages (from tensorboard<2.12,>=2.11->tensorflow==2.11.0) (1.8.1)\n",
            "Requirement already satisfied: werkzeug>=1.0.1 in /usr/local/lib/python3.10/dist-packages (from tensorboard<2.12,>=2.11->tensorflow==2.11.0) (2.3.0)\n",
            "Requirement already satisfied: cachetools<6.0,>=2.0.0 in /usr/local/lib/python3.10/dist-packages (from google-auth<3,>=1.6.3->tensorboard<2.12,>=2.11->tensorflow==2.11.0) (5.3.0)\n",
            "Requirement already satisfied: pyasn1-modules>=0.2.1 in /usr/local/lib/python3.10/dist-packages (from google-auth<3,>=1.6.3->tensorboard<2.12,>=2.11->tensorflow==2.11.0) (0.3.0)\n",
            "Requirement already satisfied: rsa<5,>=3.1.4 in /usr/local/lib/python3.10/dist-packages (from google-auth<3,>=1.6.3->tensorboard<2.12,>=2.11->tensorflow==2.11.0) (4.9)\n",
            "Requirement already satisfied: requests-oauthlib>=0.7.0 in /usr/local/lib/python3.10/dist-packages (from google-auth-oauthlib<0.5,>=0.4.1->tensorboard<2.12,>=2.11->tensorflow==2.11.0) (1.3.1)\n",
            "Requirement already satisfied: urllib3<1.27,>=1.21.1 in /usr/local/lib/python3.10/dist-packages (from requests<3,>=2.21.0->tensorboard<2.12,>=2.11->tensorflow==2.11.0) (1.26.15)\n",
            "Requirement already satisfied: certifi>=2017.4.17 in /usr/local/lib/python3.10/dist-packages (from requests<3,>=2.21.0->tensorboard<2.12,>=2.11->tensorflow==2.11.0) (2022.12.7)\n",
            "Requirement already satisfied: charset-normalizer~=2.0.0 in /usr/local/lib/python3.10/dist-packages (from requests<3,>=2.21.0->tensorboard<2.12,>=2.11->tensorflow==2.11.0) (2.0.12)\n",
            "Requirement already satisfied: idna<4,>=2.5 in /usr/local/lib/python3.10/dist-packages (from requests<3,>=2.21.0->tensorboard<2.12,>=2.11->tensorflow==2.11.0) (3.4)\n",
            "Requirement already satisfied: MarkupSafe>=2.1.1 in /usr/local/lib/python3.10/dist-packages (from werkzeug>=1.0.1->tensorboard<2.12,>=2.11->tensorflow==2.11.0) (2.1.2)\n",
            "Requirement already satisfied: pyasn1<0.6.0,>=0.4.6 in /usr/local/lib/python3.10/dist-packages (from pyasn1-modules>=0.2.1->google-auth<3,>=1.6.3->tensorboard<2.12,>=2.11->tensorflow==2.11.0) (0.5.0)\n",
            "Requirement already satisfied: oauthlib>=3.0.0 in /usr/local/lib/python3.10/dist-packages (from requests-oauthlib>=0.7.0->google-auth-oauthlib<0.5,>=0.4.1->tensorboard<2.12,>=2.11->tensorflow==2.11.0) (3.2.2)\n",
            "Installing collected packages: tensorflow-estimator, tensorboard-data-server, protobuf, keras, google-auth-oauthlib, tensorboard, tensorflow\n",
            "  Attempting uninstall: tensorflow-estimator\n",
            "    Found existing installation: tensorflow-estimator 2.12.0\n",
            "    Uninstalling tensorflow-estimator-2.12.0:\n",
            "      Successfully uninstalled tensorflow-estimator-2.12.0\n",
            "  Attempting uninstall: tensorboard-data-server\n",
            "    Found existing installation: tensorboard-data-server 0.7.0\n",
            "    Uninstalling tensorboard-data-server-0.7.0:\n",
            "      Successfully uninstalled tensorboard-data-server-0.7.0\n",
            "  Attempting uninstall: protobuf\n",
            "    Found existing installation: protobuf 3.20.3\n",
            "    Uninstalling protobuf-3.20.3:\n",
            "      Successfully uninstalled protobuf-3.20.3\n",
            "  Attempting uninstall: keras\n",
            "    Found existing installation: keras 2.12.0\n",
            "    Uninstalling keras-2.12.0:\n",
            "      Successfully uninstalled keras-2.12.0\n",
            "  Attempting uninstall: google-auth-oauthlib\n",
            "    Found existing installation: google-auth-oauthlib 1.0.0\n",
            "    Uninstalling google-auth-oauthlib-1.0.0:\n",
            "      Successfully uninstalled google-auth-oauthlib-1.0.0\n",
            "  Attempting uninstall: tensorboard\n",
            "    Found existing installation: tensorboard 2.12.2\n",
            "    Uninstalling tensorboard-2.12.2:\n",
            "      Successfully uninstalled tensorboard-2.12.2\n",
            "  Attempting uninstall: tensorflow\n",
            "    Found existing installation: tensorflow 2.12.0\n",
            "    Uninstalling tensorflow-2.12.0:\n",
            "      Successfully uninstalled tensorflow-2.12.0\n",
            "\u001b[31mERROR: pip's dependency resolver does not currently take into account all the packages that are installed. This behaviour is the source of the following dependency conflicts.\n",
            "tensorflow-datasets 4.9.2 requires protobuf>=3.20, but you have protobuf 3.19.6 which is incompatible.\n",
            "tensorflow-metadata 1.13.1 requires protobuf<5,>=3.20.3, but you have protobuf 3.19.6 which is incompatible.\u001b[0m\u001b[31m\n",
            "\u001b[0mSuccessfully installed google-auth-oauthlib-0.4.6 keras-2.11.0 protobuf-3.19.6 tensorboard-2.11.2 tensorboard-data-server-0.6.1 tensorflow-2.11.0 tensorflow-estimator-2.11.0\n"
          ]
        },
        {
          "output_type": "display_data",
          "data": {
            "application/vnd.colab-display-data+json": {
              "pip_warning": {
                "packages": [
                  "google",
                  "keras",
                  "tensorboard",
                  "tensorflow"
                ]
              }
            }
          },
          "metadata": {}
        }
      ]
    },
    {
      "cell_type": "code",
      "execution_count": null,
      "metadata": {
        "id": "ze44lLSIH4fN"
      },
      "outputs": [],
      "source": [
        "from keras.preprocessing.image import ImageDataGenerator\n",
        "from keras.models import Sequential\n",
        "from keras import layers\n",
        "import tensorflow as tf\n",
        "from keras.layers import Dense\n",
        "from keras.layers import Dropout\n",
        "from keras.layers import Flatten\n",
        "from keras.layers import GlobalAveragePooling2D\n",
        "from keras.layers import BatchNormalization\n",
        "from keras.optimizers import Adam"
      ]
    },
    {
      "cell_type": "code",
      "source": [
        "tf.test.gpu_device_name()"
      ],
      "metadata": {
        "colab": {
          "base_uri": "https://localhost:8080/",
          "height": 35
        },
        "id": "uzDbFGcOUGPY",
        "outputId": "d3bbbd5a-ea9f-4a78-b70d-c9b878f5819b"
      },
      "execution_count": null,
      "outputs": [
        {
          "output_type": "execute_result",
          "data": {
            "text/plain": [
              "'/device:GPU:0'"
            ],
            "application/vnd.google.colaboratory.intrinsic+json": {
              "type": "string"
            }
          },
          "metadata": {},
          "execution_count": 2
        }
      ]
    },
    {
      "cell_type": "code",
      "source": [
        "img_width=380\n",
        "img_height=380\n",
        "batch_size=140\n",
        "num_of_classes=85\n",
        "\n",
        "training_set_directory = \"/content/drive/MyDrive/Datasets/gemstone_roboflow_2/train\"\n",
        "validation_set_directory = \"/content/drive/MyDrive/Datasets/gemstone_roboflow_2/valid\""
      ],
      "metadata": {
        "id": "GilKHh3UIGi9"
      },
      "execution_count": null,
      "outputs": []
    },
    {
      "cell_type": "code",
      "source": [
        "training_data = ImageDataGenerator( ##rescale = 1./255,\n",
        "                                   horizontal_flip=True,\n",
        "                                    vertical_flip = True,\n",
        "                                   )\n",
        "\n",
        "validation_data = ImageDataGenerator ( ##rescale = 1./255,\n",
        "                                      horizontal_flip=True,\n",
        "                                      vertical_flip = True,\n",
        "                                    )\n"
      ],
      "metadata": {
        "id": "UceBWThkILPQ"
      },
      "execution_count": null,
      "outputs": []
    },
    {
      "cell_type": "code",
      "source": [
        "training_gen = training_data.flow_from_directory(training_set_directory,\n",
        "                                                 batch_size = batch_size,\n",
        "                                                 class_mode = 'categorical',\n",
        "                                                 shuffle = True,\n",
        "                                                 target_size = (img_height, img_width))"
      ],
      "metadata": {
        "colab": {
          "base_uri": "https://localhost:8080/"
        },
        "id": "hoiTgof-IQA7",
        "outputId": "052b3e8a-2c56-4207-8b1e-eb7ad02dcfb8"
      },
      "execution_count": null,
      "outputs": [
        {
          "output_type": "stream",
          "name": "stdout",
          "text": [
            "Found 4948 images belonging to 85 classes.\n"
          ]
        }
      ]
    },
    {
      "cell_type": "code",
      "source": [
        "validation_gen = validation_data.flow_from_directory(validation_set_directory,\n",
        "                                                     batch_size = batch_size,\n",
        "                                                     class_mode = 'categorical',\n",
        "                                                     shuffle = True,\n",
        "                                                     target_size = (img_height, img_width))"
      ],
      "metadata": {
        "colab": {
          "base_uri": "https://localhost:8080/"
        },
        "id": "PLTPeAM9IQnx",
        "outputId": "4e2456ca-e226-4583-f744-939131dd0f7d"
      },
      "execution_count": null,
      "outputs": [
        {
          "output_type": "stream",
          "name": "stdout",
          "text": [
            "Found 282 images belonging to 85 classes.\n"
          ]
        }
      ]
    },
    {
      "cell_type": "code",
      "source": [
        "efficientNetB4 = tf.keras.applications.EfficientNetB4(include_top = False, weights='imagenet', drop_connect_rate=0.4)"
      ],
      "metadata": {
        "colab": {
          "base_uri": "https://localhost:8080/"
        },
        "id": "6nJZwVnpMj-e",
        "outputId": "cab2579a-1b7a-42a7-d558-aa6a5eb2f7a7"
      },
      "execution_count": null,
      "outputs": [
        {
          "output_type": "stream",
          "name": "stdout",
          "text": [
            "Downloading data from https://storage.googleapis.com/keras-applications/efficientnetb4_notop.h5\n",
            "71686520/71686520 [==============================] - 3s 0us/step\n"
          ]
        }
      ]
    },
    {
      "cell_type": "code",
      "source": [
        "efficientNetB4.trainable = False\n"
      ],
      "metadata": {
        "id": "sA7gg66oQY42"
      },
      "execution_count": null,
      "outputs": []
    },
    {
      "cell_type": "code",
      "source": [
        "model=Sequential()\n",
        "model.add(efficientNetB4)\n",
        "model.add(GlobalAveragePooling2D(name=\"avg_pool\"))\n",
        "model.add(BatchNormalization())\n",
        "model.add(Dropout(0.2))\n",
        "model.add(Dense(num_of_classes, activation = \"softmax\"))"
      ],
      "metadata": {
        "id": "WtXbBQ85Qpcf"
      },
      "execution_count": null,
      "outputs": []
    },
    {
      "cell_type": "code",
      "source": [
        "model.compile(\n",
        "        optimizer=Adam(learning_rate=1e-2), loss=\"categorical_crossentropy\", metrics=[\"accuracy\"]\n",
        "    )"
      ],
      "metadata": {
        "id": "wvmN_jmwSGRB"
      },
      "execution_count": null,
      "outputs": []
    },
    {
      "cell_type": "code",
      "source": [
        "step_size_train = training_gen.n/training_gen.batch_size"
      ],
      "metadata": {
        "id": "sZUfRCvZS3K2"
      },
      "execution_count": null,
      "outputs": []
    },
    {
      "cell_type": "code",
      "source": [
        "history = model.fit(training_gen,\n",
        "                                epochs=50,\n",
        "                                verbose=1,\n",
        "                                steps_per_epoch = step_size_train,\n",
        "                                validation_data=validation_gen\n",
        "                                )"
      ],
      "metadata": {
        "colab": {
          "base_uri": "https://localhost:8080/"
        },
        "id": "bkddjKzkS4DL",
        "outputId": "5439e5c0-7ead-43ca-ee52-f1e276b25a37"
      },
      "execution_count": null,
      "outputs": [
        {
          "output_type": "stream",
          "name": "stdout",
          "text": [
            "Epoch 1/50\n",
            "35/35 [==============================] - 2205s 62s/step - loss: 4.0965 - accuracy: 0.3436 - val_loss: 2.0103 - val_accuracy: 0.5177\n",
            "Epoch 2/50\n",
            "35/35 [==============================] - 73s 2s/step - loss: 2.0532 - accuracy: 0.5790 - val_loss: 1.8476 - val_accuracy: 0.4787\n",
            "Epoch 3/50\n",
            "35/35 [==============================] - 73s 2s/step - loss: 1.5753 - accuracy: 0.6419 - val_loss: 1.6861 - val_accuracy: 0.5496\n",
            "Epoch 4/50\n",
            "35/35 [==============================] - 72s 2s/step - loss: 1.2796 - accuracy: 0.6880 - val_loss: 1.6597 - val_accuracy: 0.5319\n",
            "Epoch 5/50\n",
            "35/35 [==============================] - 73s 2s/step - loss: 0.9342 - accuracy: 0.7512 - val_loss: 1.5283 - val_accuracy: 0.5993\n",
            "Epoch 6/50\n",
            "35/35 [==============================] - 73s 2s/step - loss: 0.9613 - accuracy: 0.7363 - val_loss: 1.6268 - val_accuracy: 0.5638\n",
            "Epoch 7/50\n",
            "35/35 [==============================] - 73s 2s/step - loss: 0.8288 - accuracy: 0.7751 - val_loss: 1.6430 - val_accuracy: 0.5709\n",
            "Epoch 8/50\n",
            "35/35 [==============================] - 73s 2s/step - loss: 0.8083 - accuracy: 0.7793 - val_loss: 1.6929 - val_accuracy: 0.5674\n",
            "Epoch 9/50\n",
            "35/35 [==============================] - 74s 2s/step - loss: 0.7655 - accuracy: 0.7900 - val_loss: 1.7282 - val_accuracy: 0.6064\n",
            "Epoch 10/50\n",
            "35/35 [==============================] - 74s 2s/step - loss: 0.6546 - accuracy: 0.8161 - val_loss: 1.7556 - val_accuracy: 0.5887\n",
            "Epoch 11/50\n",
            "35/35 [==============================] - 74s 2s/step - loss: 0.6502 - accuracy: 0.8118 - val_loss: 1.9087 - val_accuracy: 0.6170\n",
            "Epoch 12/50\n",
            "35/35 [==============================] - 74s 2s/step - loss: 0.6417 - accuracy: 0.8191 - val_loss: 1.9559 - val_accuracy: 0.6277\n",
            "Epoch 13/50\n",
            "35/35 [==============================] - 73s 2s/step - loss: 0.6139 - accuracy: 0.8278 - val_loss: 1.9401 - val_accuracy: 0.6028\n",
            "Epoch 14/50\n",
            "35/35 [==============================] - 73s 2s/step - loss: 0.6935 - accuracy: 0.8080 - val_loss: 1.7448 - val_accuracy: 0.6489\n",
            "Epoch 15/50\n",
            "35/35 [==============================] - 73s 2s/step - loss: 0.5902 - accuracy: 0.8308 - val_loss: 1.8994 - val_accuracy: 0.6383\n",
            "Epoch 16/50\n",
            "35/35 [==============================] - 73s 2s/step - loss: 0.5500 - accuracy: 0.8428 - val_loss: 1.8842 - val_accuracy: 0.6277\n",
            "Epoch 17/50\n",
            "35/35 [==============================] - 73s 2s/step - loss: 0.5534 - accuracy: 0.8379 - val_loss: 2.0089 - val_accuracy: 0.6418\n",
            "Epoch 18/50\n",
            "35/35 [==============================] - 73s 2s/step - loss: 0.5159 - accuracy: 0.8432 - val_loss: 2.0613 - val_accuracy: 0.6170\n",
            "Epoch 19/50\n",
            "35/35 [==============================] - 74s 2s/step - loss: 0.5513 - accuracy: 0.8339 - val_loss: 2.1085 - val_accuracy: 0.6277\n",
            "Epoch 20/50\n",
            "35/35 [==============================] - 73s 2s/step - loss: 0.5240 - accuracy: 0.8521 - val_loss: 1.9340 - val_accuracy: 0.6454\n",
            "Epoch 21/50\n",
            "35/35 [==============================] - 72s 2s/step - loss: 0.5102 - accuracy: 0.8565 - val_loss: 1.8655 - val_accuracy: 0.6525\n",
            "Epoch 22/50\n",
            "35/35 [==============================] - 73s 2s/step - loss: 0.4844 - accuracy: 0.8599 - val_loss: 1.7449 - val_accuracy: 0.6844\n",
            "Epoch 23/50\n",
            "35/35 [==============================] - 74s 2s/step - loss: 0.4744 - accuracy: 0.8591 - val_loss: 1.9500 - val_accuracy: 0.6738\n",
            "Epoch 24/50\n",
            "35/35 [==============================] - 73s 2s/step - loss: 0.4891 - accuracy: 0.8648 - val_loss: 2.0150 - val_accuracy: 0.6560\n",
            "Epoch 25/50\n",
            "35/35 [==============================] - 73s 2s/step - loss: 0.4889 - accuracy: 0.8559 - val_loss: 2.0692 - val_accuracy: 0.6489\n",
            "Epoch 26/50\n",
            "35/35 [==============================] - 73s 2s/step - loss: 0.4640 - accuracy: 0.8618 - val_loss: 2.0136 - val_accuracy: 0.6454\n",
            "Epoch 27/50\n",
            "35/35 [==============================] - 73s 2s/step - loss: 0.4918 - accuracy: 0.8608 - val_loss: 2.0404 - val_accuracy: 0.6348\n",
            "Epoch 28/50\n",
            "35/35 [==============================] - 73s 2s/step - loss: 0.4603 - accuracy: 0.8650 - val_loss: 1.9824 - val_accuracy: 0.6489\n",
            "Epoch 29/50\n",
            "35/35 [==============================] - 73s 2s/step - loss: 0.4797 - accuracy: 0.8632 - val_loss: 1.9772 - val_accuracy: 0.6525\n",
            "Epoch 30/50\n",
            "35/35 [==============================] - 74s 2s/step - loss: 0.4620 - accuracy: 0.8636 - val_loss: 1.9488 - val_accuracy: 0.6348\n",
            "Epoch 31/50\n",
            "35/35 [==============================] - 73s 2s/step - loss: 0.4556 - accuracy: 0.8616 - val_loss: 1.9823 - val_accuracy: 0.6454\n",
            "Epoch 32/50\n",
            "35/35 [==============================] - 73s 2s/step - loss: 0.4364 - accuracy: 0.8721 - val_loss: 1.9700 - val_accuracy: 0.6206\n",
            "Epoch 33/50\n",
            "35/35 [==============================] - 74s 2s/step - loss: 0.5075 - accuracy: 0.8533 - val_loss: 1.9629 - val_accuracy: 0.6418\n",
            "Epoch 34/50\n",
            "35/35 [==============================] - 73s 2s/step - loss: 0.4708 - accuracy: 0.8668 - val_loss: 2.1438 - val_accuracy: 0.6206\n",
            "Epoch 35/50\n",
            "35/35 [==============================] - 73s 2s/step - loss: 0.4794 - accuracy: 0.8686 - val_loss: 2.0044 - val_accuracy: 0.6277\n",
            "Epoch 36/50\n",
            "35/35 [==============================] - 73s 2s/step - loss: 0.4914 - accuracy: 0.8656 - val_loss: 1.9840 - val_accuracy: 0.6383\n",
            "Epoch 37/50\n",
            "35/35 [==============================] - 73s 2s/step - loss: 0.4681 - accuracy: 0.8680 - val_loss: 2.2164 - val_accuracy: 0.6206\n",
            "Epoch 38/50\n",
            "35/35 [==============================] - 73s 2s/step - loss: 0.4323 - accuracy: 0.8715 - val_loss: 2.0130 - val_accuracy: 0.6277\n",
            "Epoch 39/50\n",
            "35/35 [==============================] - 73s 2s/step - loss: 0.4552 - accuracy: 0.8698 - val_loss: 2.0399 - val_accuracy: 0.6489\n",
            "Epoch 40/50\n",
            "35/35 [==============================] - 73s 2s/step - loss: 0.4228 - accuracy: 0.8757 - val_loss: 1.9584 - val_accuracy: 0.6809\n",
            "Epoch 41/50\n",
            "35/35 [==============================] - 73s 2s/step - loss: 0.4477 - accuracy: 0.8692 - val_loss: 2.0654 - val_accuracy: 0.6525\n",
            "Epoch 42/50\n",
            "35/35 [==============================] - 73s 2s/step - loss: 0.4170 - accuracy: 0.8844 - val_loss: 1.9533 - val_accuracy: 0.6702\n",
            "Epoch 43/50\n",
            "35/35 [==============================] - 73s 2s/step - loss: 0.4396 - accuracy: 0.8715 - val_loss: 2.1533 - val_accuracy: 0.6418\n",
            "Epoch 44/50\n",
            "35/35 [==============================] - 72s 2s/step - loss: 0.4531 - accuracy: 0.8747 - val_loss: 2.0046 - val_accuracy: 0.6667\n",
            "Epoch 45/50\n",
            "35/35 [==============================] - 73s 2s/step - loss: 0.4286 - accuracy: 0.8808 - val_loss: 2.1608 - val_accuracy: 0.6631\n",
            "Epoch 46/50\n",
            "35/35 [==============================] - 76s 2s/step - loss: 0.4288 - accuracy: 0.8755 - val_loss: 2.1233 - val_accuracy: 0.6631\n",
            "Epoch 47/50\n",
            "35/35 [==============================] - 73s 2s/step - loss: 0.4180 - accuracy: 0.8783 - val_loss: 2.3118 - val_accuracy: 0.6277\n",
            "Epoch 48/50\n",
            "35/35 [==============================] - 74s 2s/step - loss: 0.4071 - accuracy: 0.8800 - val_loss: 2.2222 - val_accuracy: 0.6489\n",
            "Epoch 49/50\n",
            "35/35 [==============================] - 74s 2s/step - loss: 0.4139 - accuracy: 0.8783 - val_loss: 2.4521 - val_accuracy: 0.6312\n",
            "Epoch 50/50\n",
            "35/35 [==============================] - 73s 2s/step - loss: 0.4352 - accuracy: 0.8745 - val_loss: 2.2070 - val_accuracy: 0.6348\n"
          ]
        }
      ]
    },
    {
      "cell_type": "code",
      "source": [
        "print(tf.__version__)"
      ],
      "metadata": {
        "colab": {
          "base_uri": "https://localhost:8080/"
        },
        "id": "LT5UCy1ldN0E",
        "outputId": "8c041118-1ade-46ff-cbed-b8a960a677db"
      },
      "execution_count": null,
      "outputs": [
        {
          "output_type": "stream",
          "name": "stdout",
          "text": [
            "2.11.0\n"
          ]
        }
      ]
    },
    {
      "cell_type": "code",
      "source": [
        "for layer in efficientNetB4.layers[-20:]:\n",
        "        if not isinstance(layer, layers.BatchNormalization):\n",
        "            layer.trainable = True"
      ],
      "metadata": {
        "id": "yni1NU2vYn9V"
      },
      "execution_count": null,
      "outputs": []
    },
    {
      "cell_type": "code",
      "source": [
        "for layer in model.layers[-20:]:\n",
        "        if not isinstance(layer, layers.BatchNormalization):\n",
        "            layer.trainable = True"
      ],
      "metadata": {
        "id": "daiKIPWS7boY"
      },
      "execution_count": null,
      "outputs": []
    },
    {
      "cell_type": "code",
      "source": [
        "model.compile(optimizer=Adam(learning_rate=1e-4), loss=\"categorical_crossentropy\", metrics=[\"accuracy\"])\n"
      ],
      "metadata": {
        "id": "Yk0ufSkJYwTi"
      },
      "execution_count": null,
      "outputs": []
    },
    {
      "cell_type": "code",
      "source": [
        "history = model.fit(training_gen,\n",
        "                                epochs=50,\n",
        "                                verbose=1,\n",
        "                                steps_per_epoch = step_size_train,\n",
        "                                validation_data=validation_gen\n",
        "                                )"
      ],
      "metadata": {
        "colab": {
          "base_uri": "https://localhost:8080/",
          "height": 240
        },
        "id": "rsV6imt2Y-3M",
        "outputId": "437000aa-a359-483a-d20e-5675b97d3159"
      },
      "execution_count": null,
      "outputs": [
        {
          "output_type": "error",
          "ename": "NameError",
          "evalue": "ignored",
          "traceback": [
            "\u001b[0;31m---------------------------------------------------------------------------\u001b[0m",
            "\u001b[0;31mNameError\u001b[0m                                 Traceback (most recent call last)",
            "\u001b[0;32m<ipython-input-1-0477bcad9817>\u001b[0m in \u001b[0;36m<cell line: 1>\u001b[0;34m()\u001b[0m\n\u001b[0;32m----> 1\u001b[0;31m history = model.fit(training_gen,\n\u001b[0m\u001b[1;32m      2\u001b[0m                                 \u001b[0mepochs\u001b[0m\u001b[0;34m=\u001b[0m\u001b[0;36m50\u001b[0m\u001b[0;34m,\u001b[0m\u001b[0;34m\u001b[0m\u001b[0;34m\u001b[0m\u001b[0m\n\u001b[1;32m      3\u001b[0m                                 \u001b[0mverbose\u001b[0m\u001b[0;34m=\u001b[0m\u001b[0;36m1\u001b[0m\u001b[0;34m,\u001b[0m\u001b[0;34m\u001b[0m\u001b[0;34m\u001b[0m\u001b[0m\n\u001b[1;32m      4\u001b[0m                                 \u001b[0msteps_per_epoch\u001b[0m \u001b[0;34m=\u001b[0m \u001b[0mstep_size_train\u001b[0m\u001b[0;34m,\u001b[0m\u001b[0;34m\u001b[0m\u001b[0;34m\u001b[0m\u001b[0m\n\u001b[1;32m      5\u001b[0m                                 \u001b[0mvalidation_data\u001b[0m\u001b[0;34m=\u001b[0m\u001b[0mvalidation_gen\u001b[0m\u001b[0;34m\u001b[0m\u001b[0;34m\u001b[0m\u001b[0m\n",
            "\u001b[0;31mNameError\u001b[0m: name 'model' is not defined"
          ]
        }
      ]
    }
  ]
}