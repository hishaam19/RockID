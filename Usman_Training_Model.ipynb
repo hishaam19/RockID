{
  "nbformat": 4,
  "nbformat_minor": 0,
  "metadata": {
    "colab": {
      "provenance": [],
      "mount_file_id": "15k8pC9gSACLtb-tH5jM5Gb5mksaMzm9T",
      "authorship_tag": "ABX9TyNUetH7dsmE6uSBSKWltUNu",
      "include_colab_link": true
    },
    "kernelspec": {
      "name": "python3",
      "display_name": "Python 3"
    },
    "language_info": {
      "name": "python"
    }
  },
  "cells": [
    {
      "cell_type": "markdown",
      "metadata": {
        "id": "view-in-github",
        "colab_type": "text"
      },
      "source": [
        "<a href=\"https://colab.research.google.com/github/hishaam19/RockID/blob/TrainingModelsAlex/Usman_Training_Model.ipynb\" target=\"_parent\"><img src=\"https://colab.research.google.com/assets/colab-badge.svg\" alt=\"Open In Colab\"/></a>"
      ]
    },
    {
      "cell_type": "code",
      "source": [
        "import keras\n",
        "import tensorflow as tf\n",
        "import numpy as np\n",
        "from keras.preprocessing import image\n",
        "import matplotlib.pyplot as plt\n",
        "import cv2\n",
        "import os\n",
        "from keras import layers\n",
        "from keras.layers import Dense, Flatten\n",
        "from keras.models import Sequential\n",
        "from keras.optimizers import Adam\n",
        "from keras.preprocessing.image import ImageDataGenerator\n",
        ""
      ],
      "metadata": {
        "id": "Ws4l3c4hQGWz"
      },
      "execution_count": 11,
      "outputs": []
    },
    {
      "cell_type": "code",
      "source": [
        "img_width=80; img_height=80\n",
        "batch_size=32\n",
        "NumOfclasses=134\n",
        "\n",
        "TRAIN_DIR = \"/content/drive/MyDrive/Datasets/train\"\n",
        "VAL_DIR = \"/content/drive/MyDrive/Datasets/val\"\n",
        "TEST_DIR= \"/content/drive/MyDrive/Datasets/test\""
      ],
      "metadata": {
        "id": "nC-rDi4gQI44"
      },
      "execution_count": 12,
      "outputs": []
    },
    {
      "cell_type": "code",
      "source": [
        "#preprocessing datasets\n",
        "train_data = ImageDataGenerator(\n",
        "                                    rescale=1./255,\n",
        "                                    shear_range=0.2,\n",
        "                                    zoom_range=0.2,\n",
        "                                    horizontal_flip=True,\n",
        "\n",
        "                                    vertical_flip=False  )\n",
        "\n",
        "val_data = ImageDataGenerator(rescale=1./255)\n",
        "test_data = ImageDataGenerator(rescale=1./255)\n",
        "\n",
        "train_gen = train_data.flow_from_directory(TRAIN_DIR,\n",
        "                                                batch_size=batch_size,\n",
        "                                                class_mode='categorical',\n",
        "                                                shuffle=True,\n",
        "                                                target_size=(img_height, img_width))\n",
        "\n",
        "\n",
        "\n",
        "\n",
        "\n",
        "val_gen = val_data.flow_from_directory(VAL_DIR,\n",
        "                                                batch_size=batch_size,\n",
        "                                                class_mode='categorical',\n",
        "                                                shuffle=True,\n",
        "                                                target_size=(img_height, img_width)\n",
        "                                                            )\n",
        "test_gen = test_data.flow_from_directory(TEST_DIR,\n",
        "                                                batch_size=batch_size,\n",
        "                                                class_mode='categorical',\n",
        "                                                shuffle=True,\n",
        "                                                target_size=(img_height, img_width)\n",
        "                                                            )"
      ],
      "metadata": {
        "colab": {
          "base_uri": "https://localhost:8080/"
        },
        "id": "jSAdBa2yQJy7",
        "outputId": "a4f76d39-67b8-4d81-e2bc-87a02a551cbd"
      },
      "execution_count": 13,
      "outputs": [
        {
          "output_type": "stream",
          "name": "stdout",
          "text": [
            "Found 3082 images belonging to 134 classes.\n",
            "Found 847 images belonging to 134 classes.\n",
            "Found 556 images belonging to 134 classes.\n"
          ]
        }
      ]
    },
    {
      "cell_type": "code",
      "source": [
        "#create training model\n",
        "\n",
        "model=Sequential()\n",
        "pretrained_model=tf.keras.applications.vgg16.VGG16(include_top=False,\n",
        "              weights='imagenet',\n",
        "              input_shape=(img_height,img_width,3))\n",
        "for layer in pretrained_model.layers:\n",
        "  layer.trainable = False\n",
        "\n",
        "model.add(pretrained_model)\n",
        "model.add(Flatten()) #Research DO NOT CHANGE\n",
        "model.add(Dense(1024, activation='relu'))  #Research\n",
        "model.add(Dense(512, activation='relu'))   #Reasearch\n",
        "model.add(Dense(19, activation='softmax'))\n",
        "model.summary()\n",
        "model.compile(optimizer=Adam(learning_rate=0.001),\n",
        "      loss='categorical_crossentropy',\n",
        "      metrics =['accuracy'])"
      ],
      "metadata": {
        "colab": {
          "base_uri": "https://localhost:8080/"
        },
        "id": "Z2yqE6yjQNJz",
        "outputId": "31e7df4f-1afe-407f-c104-c8f6ede1e268"
      },
      "execution_count": 14,
      "outputs": [
        {
          "output_type": "stream",
          "name": "stdout",
          "text": [
            "Downloading data from https://storage.googleapis.com/tensorflow/keras-applications/vgg16/vgg16_weights_tf_dim_ordering_tf_kernels_notop.h5\n",
            "58889256/58889256 [==============================] - 0s 0us/step\n",
            "Model: \"sequential_1\"\n",
            "_________________________________________________________________\n",
            " Layer (type)                Output Shape              Param #   \n",
            "=================================================================\n",
            " vgg16 (Functional)          (None, 2, 2, 512)         14714688  \n",
            "                                                                 \n",
            " flatten (Flatten)           (None, 2048)              0         \n",
            "                                                                 \n",
            " dense (Dense)               (None, 1024)              2098176   \n",
            "                                                                 \n",
            " dense_1 (Dense)             (None, 512)               524800    \n",
            "                                                                 \n",
            " dense_2 (Dense)             (None, 134)               68742     \n",
            "                                                                 \n",
            "=================================================================\n",
            "Total params: 17,406,406\n",
            "Trainable params: 2,691,718\n",
            "Non-trainable params: 14,714,688\n",
            "_________________________________________________________________\n"
          ]
        }
      ]
    },
    {
      "cell_type": "code",
      "source": [
        "history = model.fit(train_gen,\n",
        "                                epochs=30,\n",
        "                                verbose=1,\n",
        "                                validation_data=val_gen,\n",
        "\n",
        "                                )"
      ],
      "metadata": {
        "colab": {
          "base_uri": "https://localhost:8080/"
        },
        "id": "6HkKZJxsQO-c",
        "outputId": "50ff548e-9094-4b24-c8b3-adec8dad5635"
      },
      "execution_count": null,
      "outputs": [
        {
          "output_type": "stream",
          "name": "stdout",
          "text": [
            "Epoch 1/30\n",
            "64/97 [==================>...........] - ETA: 7:37 - loss: 4.5783 - accuracy: 0.0542"
          ]
        }
      ]
    },
    {
      "cell_type": "code",
      "source": [
        "print(\"Evaluate test data\")\n",
        "#test model\n",
        "model.evaluate(test_gen)\n",
        "model.save(\"test.h5\")\n",
        "#Plot accuracy\n",
        "plt.plot(history.history['accuracy'], label='Training Accuracy')\n",
        "plt.plot(history.history['val_accuracy'], label='Validation Accuracy')\n",
        "plt.title('Accuracy')\n",
        "plt.xlabel('Epochs')\n",
        "plt.ylabel('Accuracy')\n",
        "plt.legend()\n",
        "plt.show()\n",
        "\n",
        "# Plot loss\n",
        "plt.plot(history.history['loss'], label='Training Loss')\n",
        "plt.plot(history.history['val_loss'], label='Validation Loss')\n",
        "plt.title('Loss')\n",
        "plt.xlabel('Epochs')\n",
        "plt.ylabel('Loss')\n",
        "plt.legend()\n",
        "plt.show()"
      ],
      "metadata": {
        "id": "psycHeodQRCT"
      },
      "execution_count": null,
      "outputs": []
    }
  ]
}