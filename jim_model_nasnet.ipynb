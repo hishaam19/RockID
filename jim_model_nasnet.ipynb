{
  "cells": [
    {
      "cell_type": "markdown",
      "metadata": {
        "id": "view-in-github",
        "colab_type": "text"
      },
      "source": [
        "<a href=\"https://colab.research.google.com/github/hishaam19/RockID/blob/TrainingModelsAlex/jim_model_nasnet.ipynb\" target=\"_parent\"><img src=\"https://colab.research.google.com/assets/colab-badge.svg\" alt=\"Open In Colab\"/></a>"
      ]
    },
    {
      "cell_type": "code",
      "source": [
        "tf.test.gpu_device_name()"
      ],
      "metadata": {
        "colab": {
          "base_uri": "https://localhost:8080/",
          "height": 35
        },
        "id": "RtOS5egdhjP5",
        "outputId": "6ec1cee0-d6b8-48a8-e1dd-173b57b6ad72"
      },
      "execution_count": null,
      "outputs": [
        {
          "output_type": "execute_result",
          "data": {
            "text/plain": [
              "'/device:GPU:0'"
            ],
            "application/vnd.google.colaboratory.intrinsic+json": {
              "type": "string"
            }
          },
          "metadata": {},
          "execution_count": 4
        }
      ]
    },
    {
      "cell_type": "code",
      "execution_count": null,
      "metadata": {
        "id": "t6_R-uvzyyf6"
      },
      "outputs": [],
      "source": [
        "from keras.preprocessing.image import ImageDataGenerator\n",
        "from keras.models import Sequential\n",
        "from keras import layers\n",
        "import tensorflow as tf\n",
        "from keras.layers import Dense\n",
        "from keras.layers import Dropout\n",
        "from keras.layers import Flatten"
      ]
    },
    {
      "cell_type": "code",
      "execution_count": null,
      "metadata": {
        "id": "gu-TSyEavw6i"
      },
      "outputs": [],
      "source": [
        "img_width=331\n",
        "img_height=331\n",
        "batch_size=140\n",
        "num_of_classes=17\n",
        "\n",
        "training_set_directory = \"/content/drive/MyDrive/Datasets/cleaned_dataset/train\"\n",
        "test_set_directory = \"/content/drive/MyDrive/Datasets/cleaned_dataset/test\"\n",
        "validation_set_directory = \"/content/drive/MyDrive/Datasets/cleaned_dataset/val\""
      ]
    },
    {
      "cell_type": "code",
      "execution_count": null,
      "metadata": {
        "id": "qop7TEXzyee4"
      },
      "outputs": [],
      "source": [
        "training_data = ImageDataGenerator( rescale = 1./255,\n",
        "                                   horizontal_flip=True)\n",
        "\n",
        "test_data = ImageDataGenerator( rescale = 1./255 )\n",
        "\n",
        "validation_data = ImageDataGenerator ( rescale = 1./255)\n"
      ]
    },
    {
      "cell_type": "code",
      "execution_count": null,
      "metadata": {
        "colab": {
          "base_uri": "https://localhost:8080/"
        },
        "id": "5AZDHW6azKXs",
        "outputId": "d31333d2-55ac-4923-80eb-66d85a39e923"
      },
      "outputs": [
        {
          "output_type": "stream",
          "name": "stdout",
          "text": [
            "Found 2212 images belonging to 17 classes.\n"
          ]
        }
      ],
      "source": [
        "training_gen = training_data.flow_from_directory(training_set_directory,\n",
        "                                                 batch_size = batch_size,\n",
        "                                                 class_mode = 'categorical',\n",
        "                                                 shuffle = True,\n",
        "                                                 target_size = (img_height, img_width))"
      ]
    },
    {
      "cell_type": "code",
      "execution_count": null,
      "metadata": {
        "colab": {
          "base_uri": "https://localhost:8080/"
        },
        "id": "2oHac0cOzwet",
        "outputId": "e6febcc0-9149-4783-bcc2-8b4ad3a3bc0d"
      },
      "outputs": [
        {
          "output_type": "stream",
          "name": "stdout",
          "text": [
            "Found 271 images belonging to 17 classes.\n"
          ]
        }
      ],
      "source": [
        "validation_gen = validation_data.flow_from_directory(validation_set_directory,\n",
        "                                                     batch_size = batch_size,\n",
        "                                                     class_mode = 'categorical',\n",
        "                                                     shuffle = True,\n",
        "                                                     target_size = (img_height, img_width))"
      ]
    },
    {
      "cell_type": "code",
      "execution_count": null,
      "metadata": {
        "colab": {
          "base_uri": "https://localhost:8080/"
        },
        "id": "2lpHQnYC6PmL",
        "outputId": "7a4a9ae8-9358-43fb-9cec-80b849727a07"
      },
      "outputs": [
        {
          "output_type": "stream",
          "name": "stdout",
          "text": [
            "Found 291 images belonging to 17 classes.\n"
          ]
        }
      ],
      "source": [
        "test_gen = test_data.flow_from_directory(test_set_directory,\n",
        "                                         batch_size = batch_size,\n",
        "                                         class_mode='categorical',\n",
        "                                         shuffle = True,\n",
        "                                         target_size = (img_height, img_width))"
      ]
    },
    {
      "cell_type": "code",
      "source": [
        "nasnet = tf.keras.applications.NASNetLarge(include_top = True, weights='imagenet', input_shape= (331, 331, 3))"
      ],
      "metadata": {
        "id": "urWpISusOkk_"
      },
      "execution_count": null,
      "outputs": []
    },
    {
      "cell_type": "code",
      "source": [
        "for layer in nasnet.layers:\n",
        "  layer.trainable=False"
      ],
      "metadata": {
        "id": "CbcSYpfWOu63"
      },
      "execution_count": null,
      "outputs": []
    },
    {
      "cell_type": "markdown",
      "source": [],
      "metadata": {
        "id": "aqIOzYQmnC1n"
      }
    },
    {
      "cell_type": "code",
      "source": [
        "\n",
        "model=Sequential()\n",
        "model.add(nasnet)\n",
        "model.add(Dense(1024, activation = 'relu'))\n",
        "model.add(Dense(1024, activation = 'relu'))\n",
        "model.add(Dropout(0.3))\n",
        "model.add(Dense(1024, activation = 'relu'))\n",
        "model.add(Dense(512, activation = 'relu'))\n",
        "model.add(Dense(512, activation = 'relu'))\n",
        "model.add(Dense(17, activation = \"softmax\"))\n"
      ],
      "metadata": {
        "id": "Bi7rJ3KkO0w0"
      },
      "execution_count": null,
      "outputs": []
    },
    {
      "cell_type": "markdown",
      "source": [],
      "metadata": {
        "id": "1cnHf_fFO9m2"
      }
    },
    {
      "cell_type": "code",
      "execution_count": null,
      "metadata": {
        "id": "mynRHdQG9KFN"
      },
      "outputs": [],
      "source": [
        "model.compile(optimizer = 'RMSProp',\n",
        "              loss = 'categorical_crossentropy',\n",
        "              metrics = ['accuracy'])"
      ]
    },
    {
      "cell_type": "code",
      "source": [
        "step_size_train = training_gen.n/training_gen.batch_size"
      ],
      "metadata": {
        "id": "oXt5RKTUQzsR"
      },
      "execution_count": null,
      "outputs": []
    },
    {
      "cell_type": "code",
      "execution_count": null,
      "metadata": {
        "colab": {
          "base_uri": "https://localhost:8080/"
        },
        "id": "eSTGYGip9Z_8",
        "outputId": "3ac2552e-f64a-49de-f0d8-737a82adb18d"
      },
      "outputs": [
        {
          "output_type": "stream",
          "name": "stdout",
          "text": [
            "Epoch 1/30\n",
            "15/15 [==============================] - 96s 5s/step - loss: 2.7390 - accuracy: 0.1126 - val_loss: 2.6170 - val_accuracy: 0.0996\n",
            "Epoch 2/30\n",
            "15/15 [==============================] - 73s 5s/step - loss: 2.5714 - accuracy: 0.1582 - val_loss: 2.3594 - val_accuracy: 0.1993\n",
            "Epoch 3/30\n",
            "15/15 [==============================] - 70s 4s/step - loss: 2.3501 - accuracy: 0.1944 - val_loss: 2.5200 - val_accuracy: 0.1365\n",
            "Epoch 4/30\n",
            "15/15 [==============================] - 70s 4s/step - loss: 2.2704 - accuracy: 0.2165 - val_loss: 2.2245 - val_accuracy: 0.2399\n",
            "Epoch 5/30\n",
            "15/15 [==============================] - 71s 4s/step - loss: 2.1610 - accuracy: 0.2663 - val_loss: 2.1613 - val_accuracy: 0.2804\n",
            "Epoch 6/30\n",
            "15/15 [==============================] - 70s 4s/step - loss: 2.0952 - accuracy: 0.2907 - val_loss: 2.1188 - val_accuracy: 0.2731\n",
            "Epoch 7/30\n",
            "15/15 [==============================] - 72s 5s/step - loss: 2.0387 - accuracy: 0.3133 - val_loss: 2.0437 - val_accuracy: 0.3284\n",
            "Epoch 8/30\n",
            "15/15 [==============================] - 70s 4s/step - loss: 1.9281 - accuracy: 0.3418 - val_loss: 2.0709 - val_accuracy: 0.3173\n",
            "Epoch 9/30\n",
            "15/15 [==============================] - 70s 4s/step - loss: 1.9304 - accuracy: 0.3580 - val_loss: 2.0694 - val_accuracy: 0.3321\n",
            "Epoch 10/30\n",
            "15/15 [==============================] - 70s 4s/step - loss: 1.8462 - accuracy: 0.3635 - val_loss: 2.0644 - val_accuracy: 0.3432\n",
            "Epoch 11/30\n",
            "15/15 [==============================] - 72s 5s/step - loss: 1.8003 - accuracy: 0.3892 - val_loss: 2.0323 - val_accuracy: 0.3653\n",
            "Epoch 12/30\n",
            "15/15 [==============================] - 72s 5s/step - loss: 1.7300 - accuracy: 0.4105 - val_loss: 2.0297 - val_accuracy: 0.3875\n",
            "Epoch 13/30\n",
            "15/15 [==============================] - 70s 4s/step - loss: 1.7203 - accuracy: 0.4100 - val_loss: 2.0807 - val_accuracy: 0.3173\n",
            "Epoch 14/30\n",
            "15/15 [==============================] - 70s 4s/step - loss: 1.6507 - accuracy: 0.4372 - val_loss: 1.9868 - val_accuracy: 0.4428\n",
            "Epoch 15/30\n",
            "15/15 [==============================] - 70s 4s/step - loss: 1.6057 - accuracy: 0.4399 - val_loss: 1.9845 - val_accuracy: 0.3764\n",
            "Epoch 16/30\n",
            "15/15 [==============================] - 70s 5s/step - loss: 1.5836 - accuracy: 0.4575 - val_loss: 1.9183 - val_accuracy: 0.4059\n",
            "Epoch 17/30\n",
            "15/15 [==============================] - 70s 4s/step - loss: 1.5545 - accuracy: 0.4611 - val_loss: 2.0467 - val_accuracy: 0.3616\n",
            "Epoch 18/30\n",
            "15/15 [==============================] - 70s 4s/step - loss: 1.5105 - accuracy: 0.4751 - val_loss: 1.9669 - val_accuracy: 0.3506\n",
            "Epoch 19/30\n",
            "15/15 [==============================] - 70s 4s/step - loss: 1.4882 - accuracy: 0.4810 - val_loss: 2.0729 - val_accuracy: 0.3911\n",
            "Epoch 20/30\n",
            "15/15 [==============================] - 70s 4s/step - loss: 1.4823 - accuracy: 0.4769 - val_loss: 1.9799 - val_accuracy: 0.3801\n",
            "Epoch 21/30\n",
            "15/15 [==============================] - 70s 5s/step - loss: 1.4266 - accuracy: 0.4914 - val_loss: 2.0425 - val_accuracy: 0.3875\n",
            "Epoch 22/30\n",
            "15/15 [==============================] - 72s 5s/step - loss: 1.3778 - accuracy: 0.5235 - val_loss: 1.9887 - val_accuracy: 0.3764\n",
            "Epoch 23/30\n",
            "15/15 [==============================] - 70s 4s/step - loss: 1.3754 - accuracy: 0.5226 - val_loss: 2.0457 - val_accuracy: 0.3911\n",
            "Epoch 24/30\n",
            "15/15 [==============================] - 70s 4s/step - loss: 1.3205 - accuracy: 0.5375 - val_loss: 1.9915 - val_accuracy: 0.4022\n",
            "Epoch 25/30\n",
            "15/15 [==============================] - 70s 4s/step - loss: 1.3084 - accuracy: 0.5398 - val_loss: 2.1650 - val_accuracy: 0.3653\n",
            "Epoch 26/30\n",
            "15/15 [==============================] - 70s 4s/step - loss: 1.2991 - accuracy: 0.5533 - val_loss: 2.0079 - val_accuracy: 0.4133\n",
            "Epoch 27/30\n",
            "15/15 [==============================] - 71s 4s/step - loss: 1.2813 - accuracy: 0.5470 - val_loss: 2.0764 - val_accuracy: 0.4280\n",
            "Epoch 28/30\n",
            "15/15 [==============================] - 70s 4s/step - loss: 1.2058 - accuracy: 0.5782 - val_loss: 2.1518 - val_accuracy: 0.3764\n",
            "Epoch 29/30\n",
            "15/15 [==============================] - 72s 5s/step - loss: 1.2236 - accuracy: 0.5642 - val_loss: 2.1015 - val_accuracy: 0.3616\n",
            "Epoch 30/30\n",
            "15/15 [==============================] - 70s 4s/step - loss: 1.2104 - accuracy: 0.5755 - val_loss: 2.2029 - val_accuracy: 0.4133\n"
          ]
        }
      ],
      "source": [
        "history = model.fit(training_gen,\n",
        "                                epochs=30,\n",
        "                                verbose=1,\n",
        "                                steps_per_epoch = step_size_train,\n",
        "                                validation_data=validation_gen\n",
        "                                )\n"
      ]
    }
  ],
  "metadata": {
    "colab": {
      "provenance": [],
      "gpuType": "T4",
      "mount_file_id": "1jwfVWcV4t7-I3EFqsr6hlfX0JzMltwJm",
      "authorship_tag": "ABX9TyOTXNNM49ksfd5t/qPDKjHn",
      "include_colab_link": true
    },
    "kernelspec": {
      "display_name": "Python 3",
      "name": "python3"
    },
    "language_info": {
      "name": "python"
    },
    "accelerator": "GPU"
  },
  "nbformat": 4,
  "nbformat_minor": 0
}