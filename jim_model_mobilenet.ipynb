{
  "nbformat": 4,
  "nbformat_minor": 0,
  "metadata": {
    "colab": {
      "provenance": [],
      "gpuType": "T4",
      "mount_file_id": "1pWZh-gzXt7yqpgDzEAaaK7iZpMlk5kvN",
      "authorship_tag": "ABX9TyMPTEvpkJ0a5k/ej9jy3Gyh",
      "include_colab_link": true
    },
    "kernelspec": {
      "name": "python3",
      "display_name": "Python 3"
    },
    "language_info": {
      "name": "python"
    },
    "accelerator": "GPU"
  },
  "cells": [
    {
      "cell_type": "markdown",
      "metadata": {
        "id": "view-in-github",
        "colab_type": "text"
      },
      "source": [
        "<a href=\"https://colab.research.google.com/github/hishaam19/RockID/blob/TrainingModelsAlex/jim_model_mobilenet.ipynb\" target=\"_parent\"><img src=\"https://colab.research.google.com/assets/colab-badge.svg\" alt=\"Open In Colab\"/></a>"
      ]
    },
    {
      "cell_type": "code",
      "source": [
        "tf.test.gpu_device_name()"
      ],
      "metadata": {
        "colab": {
          "base_uri": "https://localhost:8080/",
          "height": 35
        },
        "id": "KerbilBZHoRU",
        "outputId": "38e1642f-daa7-4ccd-f6a5-ff37f6135298"
      },
      "execution_count": 3,
      "outputs": [
        {
          "output_type": "execute_result",
          "data": {
            "text/plain": [
              "'/device:GPU:0'"
            ],
            "application/vnd.google.colaboratory.intrinsic+json": {
              "type": "string"
            }
          },
          "metadata": {},
          "execution_count": 3
        }
      ]
    },
    {
      "cell_type": "code",
      "execution_count": 25,
      "metadata": {
        "id": "5WGxAVtGHCHr"
      },
      "outputs": [],
      "source": [
        "from keras.preprocessing.image import ImageDataGenerator\n",
        "from keras.models import Sequential\n",
        "from keras import layers\n",
        "import tensorflow as tf\n",
        "from keras.layers import Dense\n",
        "from keras.layers import Dropout\n",
        "from keras.layers import Flatten"
      ]
    },
    {
      "cell_type": "code",
      "source": [
        "img_width=224\n",
        "img_height=224\n",
        "batch_size=140\n",
        "num_of_classes=17\n",
        "\n",
        "training_set_directory = \"/content/drive/MyDrive/Datasets/cleaned_dataset/train\"\n",
        "test_set_directory = \"/content/drive/MyDrive/Datasets/cleaned_dataset/test\"\n",
        "validation_set_directory = \"/content/drive/MyDrive/Datasets/cleaned_dataset/val\""
      ],
      "metadata": {
        "id": "ZWZXG5KOHE-N"
      },
      "execution_count": 26,
      "outputs": []
    },
    {
      "cell_type": "code",
      "source": [
        "training_data = ImageDataGenerator( rescale = 1./255,\n",
        "                                   horizontal_flip=True)\n",
        "\n",
        "test_data = ImageDataGenerator( rescale = 1./255 )\n",
        "\n",
        "validation_data = ImageDataGenerator ( rescale = 1./255)"
      ],
      "metadata": {
        "id": "syugQorNHGyu"
      },
      "execution_count": 27,
      "outputs": []
    },
    {
      "cell_type": "code",
      "source": [
        "training_gen = training_data.flow_from_directory(training_set_directory,\n",
        "                                                 batch_size = batch_size,\n",
        "                                                 class_mode = 'categorical',\n",
        "                                                 shuffle = True,\n",
        "                                                 target_size = (img_height, img_width))"
      ],
      "metadata": {
        "colab": {
          "base_uri": "https://localhost:8080/"
        },
        "id": "04KdPtynHIwi",
        "outputId": "dd574f15-4fa1-4c11-8c1a-48758232b5d1"
      },
      "execution_count": 28,
      "outputs": [
        {
          "output_type": "stream",
          "name": "stdout",
          "text": [
            "Found 2212 images belonging to 17 classes.\n"
          ]
        }
      ]
    },
    {
      "cell_type": "code",
      "source": [
        "validation_gen = validation_data.flow_from_directory(validation_set_directory,\n",
        "                                                     batch_size = batch_size,\n",
        "                                                     class_mode = 'categorical',\n",
        "                                                     shuffle = True,\n",
        "                                                     target_size = (img_height, img_width))"
      ],
      "metadata": {
        "colab": {
          "base_uri": "https://localhost:8080/"
        },
        "id": "lQIMp1PRHMgv",
        "outputId": "4e5d3fda-b724-4235-bfc8-e791d5ae1baa"
      },
      "execution_count": 29,
      "outputs": [
        {
          "output_type": "stream",
          "name": "stdout",
          "text": [
            "Found 271 images belonging to 17 classes.\n"
          ]
        }
      ]
    },
    {
      "cell_type": "code",
      "source": [
        "test_gen = test_data.flow_from_directory(test_set_directory,\n",
        "                                         batch_size = batch_size,\n",
        "                                         class_mode='categorical',\n",
        "                                         shuffle = True,\n",
        "                                         target_size = (img_height, img_width))"
      ],
      "metadata": {
        "colab": {
          "base_uri": "https://localhost:8080/"
        },
        "id": "LEmZCuQFHOwE",
        "outputId": "2e286250-f5e4-486f-9820-67fa62f33fa8"
      },
      "execution_count": 30,
      "outputs": [
        {
          "output_type": "stream",
          "name": "stdout",
          "text": [
            "Found 291 images belonging to 17 classes.\n"
          ]
        }
      ]
    },
    {
      "cell_type": "code",
      "source": [
        "mobilenet = tf.keras.applications.MobileNet(include_top = True, weights='imagenet', input_shape= (224, 224, 3))"
      ],
      "metadata": {
        "id": "l6tAf7SYHRKf"
      },
      "execution_count": 38,
      "outputs": []
    },
    {
      "cell_type": "code",
      "source": [
        "for layer in mobilenet.layers:\n",
        "  layer.trainable=True"
      ],
      "metadata": {
        "id": "xjxVkL1CHRy9"
      },
      "execution_count": 39,
      "outputs": []
    },
    {
      "cell_type": "code",
      "source": [
        "\n",
        "model=Sequential()\n",
        "model.add(mobilenet)\n",
        "model.add(Dense(1024, activation = 'relu'))\n",
        "model.add(Dropout(0.2))\n",
        "model.add(Dense(1024, activation = 'relu'))\n",
        "model.add(Dense(1024, activation = 'relu'))\n",
        "model.add(Dropout(0.2))\n",
        "model.add(Dense(512, activation = 'relu'))\n",
        "model.add(Dense(512, activation = 'relu'))\n",
        "model.add(Dense(512, activation = 'relu'))\n",
        "model.add(Dense(17, activation = \"softmax\"))"
      ],
      "metadata": {
        "id": "QdP8O195HT4M"
      },
      "execution_count": 40,
      "outputs": []
    },
    {
      "cell_type": "code",
      "source": [
        "model.compile(optimizer = 'Adam',\n",
        "              loss = 'categorical_crossentropy',\n",
        "              metrics = ['accuracy'])"
      ],
      "metadata": {
        "id": "982-lnYZHV0K"
      },
      "execution_count": 41,
      "outputs": []
    },
    {
      "cell_type": "code",
      "source": [
        "step_size_train = training_gen.n/training_gen.batch_size"
      ],
      "metadata": {
        "id": "BJ4cuJ88HXqb"
      },
      "execution_count": 42,
      "outputs": []
    },
    {
      "cell_type": "code",
      "source": [
        "history = model.fit(training_gen,\n",
        "                                epochs=50,\n",
        "                                verbose=1,\n",
        "                                steps_per_epoch = step_size_train,\n",
        "                                validation_data=validation_gen\n",
        "                                )"
      ],
      "metadata": {
        "colab": {
          "base_uri": "https://localhost:8080/"
        },
        "id": "V1nVDMbTHbTo",
        "outputId": "7f4f404b-f3c1-4071-c0f2-e09f9fbd6329"
      },
      "execution_count": 43,
      "outputs": [
        {
          "output_type": "stream",
          "name": "stdout",
          "text": [
            "Epoch 1/50\n",
            "15/15 [==============================] - 31s 896ms/step - loss: 2.6496 - accuracy: 0.1388 - val_loss: 2.5646 - val_accuracy: 0.1587\n",
            "Epoch 2/50\n",
            "15/15 [==============================] - 13s 822ms/step - loss: 2.2800 - accuracy: 0.2414 - val_loss: 2.6352 - val_accuracy: 0.1697\n",
            "Epoch 3/50\n",
            "15/15 [==============================] - 13s 821ms/step - loss: 2.1070 - accuracy: 0.3052 - val_loss: 4.6365 - val_accuracy: 0.0554\n",
            "Epoch 4/50\n",
            "15/15 [==============================] - 13s 808ms/step - loss: 1.8405 - accuracy: 0.3608 - val_loss: 3.5249 - val_accuracy: 0.1624\n",
            "Epoch 5/50\n",
            "15/15 [==============================] - 13s 816ms/step - loss: 1.7329 - accuracy: 0.3689 - val_loss: 3.9683 - val_accuracy: 0.1218\n",
            "Epoch 6/50\n",
            "15/15 [==============================] - 14s 830ms/step - loss: 1.6446 - accuracy: 0.4069 - val_loss: 3.0772 - val_accuracy: 0.2214\n",
            "Epoch 7/50\n",
            "15/15 [==============================] - 14s 859ms/step - loss: 1.5928 - accuracy: 0.4209 - val_loss: 3.1726 - val_accuracy: 0.2472\n",
            "Epoch 8/50\n",
            "15/15 [==============================] - 13s 814ms/step - loss: 1.4865 - accuracy: 0.4625 - val_loss: 2.9311 - val_accuracy: 0.2768\n",
            "Epoch 9/50\n",
            "15/15 [==============================] - 13s 806ms/step - loss: 1.5029 - accuracy: 0.4512 - val_loss: 4.2989 - val_accuracy: 0.2251\n",
            "Epoch 10/50\n",
            "15/15 [==============================] - 13s 805ms/step - loss: 1.4433 - accuracy: 0.4616 - val_loss: 3.2486 - val_accuracy: 0.2325\n",
            "Epoch 11/50\n",
            "15/15 [==============================] - 13s 801ms/step - loss: 1.5238 - accuracy: 0.4408 - val_loss: 4.3545 - val_accuracy: 0.2140\n",
            "Epoch 12/50\n",
            "15/15 [==============================] - 14s 862ms/step - loss: 1.4686 - accuracy: 0.4593 - val_loss: 3.6434 - val_accuracy: 0.2251\n",
            "Epoch 13/50\n",
            "15/15 [==============================] - 13s 783ms/step - loss: 1.4317 - accuracy: 0.4706 - val_loss: 3.0767 - val_accuracy: 0.2731\n",
            "Epoch 14/50\n",
            "15/15 [==============================] - 13s 772ms/step - loss: 1.3652 - accuracy: 0.4824 - val_loss: 2.2780 - val_accuracy: 0.2915\n",
            "Epoch 15/50\n",
            "15/15 [==============================] - 13s 815ms/step - loss: 1.2997 - accuracy: 0.5140 - val_loss: 2.2607 - val_accuracy: 0.4059\n",
            "Epoch 16/50\n",
            "15/15 [==============================] - 13s 819ms/step - loss: 1.4670 - accuracy: 0.5023 - val_loss: 2.0260 - val_accuracy: 0.3764\n",
            "Epoch 17/50\n",
            "15/15 [==============================] - 13s 813ms/step - loss: 1.4181 - accuracy: 0.5163 - val_loss: 1.8715 - val_accuracy: 0.4207\n",
            "Epoch 18/50\n",
            "15/15 [==============================] - 13s 821ms/step - loss: 1.4560 - accuracy: 0.5090 - val_loss: 2.1991 - val_accuracy: 0.3727\n",
            "Epoch 19/50\n",
            "15/15 [==============================] - 13s 780ms/step - loss: 1.3692 - accuracy: 0.5131 - val_loss: 2.8638 - val_accuracy: 0.3579\n",
            "Epoch 20/50\n",
            "15/15 [==============================] - 14s 831ms/step - loss: 1.3142 - accuracy: 0.5285 - val_loss: 1.8505 - val_accuracy: 0.4280\n",
            "Epoch 21/50\n",
            "15/15 [==============================] - 13s 821ms/step - loss: 1.3208 - accuracy: 0.5389 - val_loss: 2.5462 - val_accuracy: 0.3579\n",
            "Epoch 22/50\n",
            "15/15 [==============================] - 13s 812ms/step - loss: 1.2688 - accuracy: 0.5524 - val_loss: 2.4360 - val_accuracy: 0.4207\n",
            "Epoch 23/50\n",
            "15/15 [==============================] - 13s 814ms/step - loss: 1.2161 - accuracy: 0.5660 - val_loss: 1.9189 - val_accuracy: 0.4834\n",
            "Epoch 24/50\n",
            "15/15 [==============================] - 13s 816ms/step - loss: 1.1671 - accuracy: 0.5637 - val_loss: 1.8923 - val_accuracy: 0.4908\n",
            "Epoch 25/50\n",
            "15/15 [==============================] - 13s 822ms/step - loss: 1.1320 - accuracy: 0.5845 - val_loss: 1.4457 - val_accuracy: 0.5314\n",
            "Epoch 26/50\n",
            "15/15 [==============================] - 13s 824ms/step - loss: 1.0934 - accuracy: 0.5769 - val_loss: 1.3689 - val_accuracy: 0.5277\n",
            "Epoch 27/50\n",
            "15/15 [==============================] - 13s 812ms/step - loss: 1.0771 - accuracy: 0.5877 - val_loss: 1.2446 - val_accuracy: 0.5535\n",
            "Epoch 28/50\n",
            "15/15 [==============================] - 13s 831ms/step - loss: 1.0722 - accuracy: 0.5809 - val_loss: 1.2557 - val_accuracy: 0.5351\n",
            "Epoch 29/50\n",
            "15/15 [==============================] - 14s 848ms/step - loss: 1.0397 - accuracy: 0.6004 - val_loss: 1.2030 - val_accuracy: 0.5461\n",
            "Epoch 30/50\n",
            "15/15 [==============================] - 13s 811ms/step - loss: 1.0155 - accuracy: 0.5976 - val_loss: 1.3073 - val_accuracy: 0.5351\n",
            "Epoch 31/50\n",
            "15/15 [==============================] - 13s 816ms/step - loss: 1.0593 - accuracy: 0.5972 - val_loss: 1.6524 - val_accuracy: 0.4723\n",
            "Epoch 32/50\n",
            "15/15 [==============================] - 13s 830ms/step - loss: 1.1146 - accuracy: 0.6067 - val_loss: 2.1312 - val_accuracy: 0.4317\n",
            "Epoch 33/50\n",
            "15/15 [==============================] - 13s 808ms/step - loss: 1.0661 - accuracy: 0.6004 - val_loss: 2.1653 - val_accuracy: 0.4539\n",
            "Epoch 34/50\n",
            "15/15 [==============================] - 13s 805ms/step - loss: 0.9915 - accuracy: 0.6388 - val_loss: 1.5555 - val_accuracy: 0.4871\n",
            "Epoch 35/50\n",
            "15/15 [==============================] - 13s 820ms/step - loss: 0.9905 - accuracy: 0.6270 - val_loss: 1.4294 - val_accuracy: 0.5535\n",
            "Epoch 36/50\n",
            "15/15 [==============================] - 13s 819ms/step - loss: 0.9987 - accuracy: 0.6537 - val_loss: 1.7178 - val_accuracy: 0.4576\n",
            "Epoch 37/50\n",
            "15/15 [==============================] - 13s 822ms/step - loss: 0.9594 - accuracy: 0.6659 - val_loss: 1.7442 - val_accuracy: 0.4649\n",
            "Epoch 38/50\n",
            "15/15 [==============================] - 13s 812ms/step - loss: 0.9347 - accuracy: 0.6632 - val_loss: 1.7815 - val_accuracy: 0.5055\n",
            "Epoch 39/50\n",
            "15/15 [==============================] - 13s 816ms/step - loss: 0.9385 - accuracy: 0.6587 - val_loss: 2.3324 - val_accuracy: 0.4539\n",
            "Epoch 40/50\n",
            "15/15 [==============================] - 13s 823ms/step - loss: 0.9917 - accuracy: 0.6148 - val_loss: 1.5531 - val_accuracy: 0.5018\n",
            "Epoch 41/50\n",
            "15/15 [==============================] - 13s 810ms/step - loss: 0.9098 - accuracy: 0.6438 - val_loss: 1.4627 - val_accuracy: 0.6273\n",
            "Epoch 42/50\n",
            "15/15 [==============================] - 13s 814ms/step - loss: 0.8308 - accuracy: 0.6867 - val_loss: 1.4768 - val_accuracy: 0.5978\n",
            "Epoch 43/50\n",
            "15/15 [==============================] - 13s 822ms/step - loss: 0.8594 - accuracy: 0.6962 - val_loss: 1.1719 - val_accuracy: 0.6199\n",
            "Epoch 44/50\n",
            "15/15 [==============================] - 13s 817ms/step - loss: 0.7530 - accuracy: 0.7260 - val_loss: 1.2197 - val_accuracy: 0.6421\n",
            "Epoch 45/50\n",
            "15/15 [==============================] - 13s 804ms/step - loss: 0.7306 - accuracy: 0.7378 - val_loss: 1.4404 - val_accuracy: 0.6089\n",
            "Epoch 46/50\n",
            "15/15 [==============================] - 13s 807ms/step - loss: 0.7402 - accuracy: 0.7297 - val_loss: 1.6478 - val_accuracy: 0.4760\n",
            "Epoch 47/50\n",
            "15/15 [==============================] - 14s 869ms/step - loss: 0.7258 - accuracy: 0.7211 - val_loss: 1.6557 - val_accuracy: 0.5240\n",
            "Epoch 48/50\n",
            "15/15 [==============================] - 13s 824ms/step - loss: 0.7210 - accuracy: 0.7310 - val_loss: 1.4757 - val_accuracy: 0.5720\n",
            "Epoch 49/50\n",
            "15/15 [==============================] - 13s 811ms/step - loss: 0.6543 - accuracy: 0.7618 - val_loss: 1.7666 - val_accuracy: 0.5609\n",
            "Epoch 50/50\n",
            "15/15 [==============================] - 13s 827ms/step - loss: 0.6384 - accuracy: 0.7740 - val_loss: 1.4056 - val_accuracy: 0.6015\n"
          ]
        }
      ]
    }
  ]
}